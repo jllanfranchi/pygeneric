{
 "metadata": {
  "name": "",
  "signature": "sha256:df53fe64863c3635dcd540086be294090121625f6fcffa838c02d3affaa7a37a"
 },
 "nbformat": 3,
 "nbformat_minor": 0,
 "worksheets": [
  {
   "cells": [
    {
     "cell_type": "code",
     "collapsed": false,
     "input": [
      "import re\n",
      "import numpy as np\n",
      "from IPython.display import display as D\n",
      "%rehashx"
     ],
     "language": "python",
     "metadata": {},
     "outputs": [],
     "prompt_number": 1
    },
    {
     "cell_type": "code",
     "collapsed": false,
     "input": [
      "%cd ~/courses/phys572_lasers/lecture/"
     ],
     "language": "python",
     "metadata": {},
     "outputs": [
      {
       "output_type": "stream",
       "stream": "stdout",
       "text": [
        "/home/justin/courses/phys572_lasers/lecture\n"
       ]
      }
     ],
     "prompt_number": 2
    },
    {
     "cell_type": "code",
     "collapsed": false,
     "input": [
      "pdfnum_re = re.compile(r\"lecture([0-9]{1,2})\\.pdf\", re.IGNORECASE)"
     ],
     "language": "python",
     "metadata": {},
     "outputs": [],
     "prompt_number": 3
    },
    {
     "cell_type": "code",
     "collapsed": false,
     "input": [
      "files = !ls lecture*\n",
      "D(files)"
     ],
     "language": "python",
     "metadata": {},
     "outputs": [
      {
       "metadata": {},
       "output_type": "display_data",
       "text": [
        "['lecture01.PDF',\n",
        " 'lecture02.PDF',\n",
        " 'lecture03.PDF',\n",
        " 'lecture04.PDF',\n",
        " 'lecture05.PDF',\n",
        " 'lecture06.PDF',\n",
        " 'lecture07.pdf',\n",
        " 'lecture08.pdf',\n",
        " 'lecture09.pdf',\n",
        " 'lecture10.pdf',\n",
        " 'lecture11.pdf',\n",
        " 'lecture12.pdf',\n",
        " 'lecture13.pdf',\n",
        " 'lecture14.pdf',\n",
        " 'lecture15.pdf',\n",
        " 'lecture16.pdf',\n",
        " 'lecture17.pdf',\n",
        " 'lecture18.pdf',\n",
        " 'lecture19.pdf',\n",
        " 'lecture20.pdf',\n",
        " 'lecture21.pdf',\n",
        " 'lecture22.pdf',\n",
        " 'lecture23.pdf',\n",
        " 'lecture24.pdf',\n",
        " 'lecture25.pdf',\n",
        " 'lecture26.pdf']"
       ]
      }
     ],
     "prompt_number": 4
    },
    {
     "cell_type": "code",
     "collapsed": false,
     "input": [
      "newfiles = []\n",
      "idxnames = []\n",
      "for f in files:\n",
      "    filenum = int(pdfnum_re.findall(f)[0])\n",
      "    pdfname = r\"Lecture\\ \"+format(filenum, \"02d\")+\".pdf\" \n",
      "    idxname = r\"Lecture \"+format(filenum, \"d\")\n",
      "    newfiles.append(pdfname)\n",
      "    idxnames.append(idxname)\n",
      "    !cp $f $pdfname\n",
      "    print filenum, pdfname, idxname"
     ],
     "language": "python",
     "metadata": {},
     "outputs": [
      {
       "output_type": "stream",
       "stream": "stdout",
       "text": [
        "1 Lecture\\ 01.pdf Lecture 1\n"
       ]
      },
      {
       "output_type": "stream",
       "stream": "stdout",
       "text": [
        "2 Lecture\\ 02.pdf Lecture 2\n"
       ]
      },
      {
       "output_type": "stream",
       "stream": "stdout",
       "text": [
        "3 Lecture\\ 03.pdf Lecture 3\n"
       ]
      },
      {
       "output_type": "stream",
       "stream": "stdout",
       "text": [
        "4 Lecture\\ 04.pdf Lecture 4\n"
       ]
      },
      {
       "output_type": "stream",
       "stream": "stdout",
       "text": [
        "5 Lecture\\ 05.pdf Lecture 5\n"
       ]
      },
      {
       "output_type": "stream",
       "stream": "stdout",
       "text": [
        "6 Lecture\\ 06.pdf Lecture 6\n"
       ]
      },
      {
       "output_type": "stream",
       "stream": "stdout",
       "text": [
        "7 Lecture\\ 07.pdf Lecture 7\n"
       ]
      },
      {
       "output_type": "stream",
       "stream": "stdout",
       "text": [
        "8 Lecture\\ 08.pdf Lecture 8\n"
       ]
      },
      {
       "output_type": "stream",
       "stream": "stdout",
       "text": [
        "9 Lecture\\ 09.pdf Lecture 9\n"
       ]
      },
      {
       "output_type": "stream",
       "stream": "stdout",
       "text": [
        "10 Lecture\\ 10.pdf Lecture 10\n"
       ]
      },
      {
       "output_type": "stream",
       "stream": "stdout",
       "text": [
        "11 Lecture\\ 11.pdf Lecture 11\n"
       ]
      },
      {
       "output_type": "stream",
       "stream": "stdout",
       "text": [
        "12 Lecture\\ 12.pdf Lecture 12\n"
       ]
      },
      {
       "output_type": "stream",
       "stream": "stdout",
       "text": [
        "13 Lecture\\ 13.pdf Lecture 13\n"
       ]
      },
      {
       "output_type": "stream",
       "stream": "stdout",
       "text": [
        "14 Lecture\\ 14.pdf Lecture 14\n"
       ]
      },
      {
       "output_type": "stream",
       "stream": "stdout",
       "text": [
        "15 Lecture\\ 15.pdf Lecture 15\n"
       ]
      },
      {
       "output_type": "stream",
       "stream": "stdout",
       "text": [
        "16 Lecture\\ 16.pdf Lecture 16\n"
       ]
      },
      {
       "output_type": "stream",
       "stream": "stdout",
       "text": [
        "17 Lecture\\ 17.pdf Lecture 17\n"
       ]
      },
      {
       "output_type": "stream",
       "stream": "stdout",
       "text": [
        "18 Lecture\\ 18.pdf Lecture 18\n"
       ]
      },
      {
       "output_type": "stream",
       "stream": "stdout",
       "text": [
        "19 Lecture\\ 19.pdf Lecture 19\n"
       ]
      },
      {
       "output_type": "stream",
       "stream": "stdout",
       "text": [
        "20 Lecture\\ 20.pdf Lecture 20\n"
       ]
      },
      {
       "output_type": "stream",
       "stream": "stdout",
       "text": [
        "21 Lecture\\ 21.pdf Lecture 21\n"
       ]
      },
      {
       "output_type": "stream",
       "stream": "stdout",
       "text": [
        "22 Lecture\\ 22.pdf Lecture 22\n"
       ]
      },
      {
       "output_type": "stream",
       "stream": "stdout",
       "text": [
        "23 Lecture\\ 23.pdf Lecture 23\n"
       ]
      },
      {
       "output_type": "stream",
       "stream": "stdout",
       "text": [
        "24 Lecture\\ 24.pdf Lecture 24\n"
       ]
      },
      {
       "output_type": "stream",
       "stream": "stdout",
       "text": [
        "25 Lecture\\ 25.pdf Lecture 25\n"
       ]
      },
      {
       "output_type": "stream",
       "stream": "stdout",
       "text": [
        "26 Lecture\\ 26.pdf Lecture 26\n"
       ]
      }
     ],
     "prompt_number": 5
    },
    {
     "cell_type": "markdown",
     "metadata": {},
     "source": [
      "Merge the PDF's into one; note that the --rotateoversize false keeps large pages from being rotated, which happened in these notes.\n",
      "\n",
      "**TODO**: Modify to figure out the (or each) page size(s) automatically and use that, or something reasonable given the measurements."
     ]
    },
    {
     "cell_type": "code",
     "collapsed": false,
     "input": [
      "tempfile = \"lectures.tmp.pdf\"\n",
      "outfile = \"PHYS_572_lectures.pdf\"\n",
      "!pdfjoin --paper a4paper --rotateoversize false Lecture*.pdf --outfile $tempfile"
     ],
     "language": "python",
     "metadata": {},
     "outputs": [
      {
       "output_type": "stream",
       "stream": "stdout",
       "text": [
        "          ----\r\n",
        "  pdfjam: This is pdfjam version 2.08.\r\n",
        "  pdfjam: Reading any site-wide or user-specific defaults...\r\n",
        "          (none found)\r\n",
        "  pdfjam: Effective call for this run of pdfjam:\r\n",
        "          /usr/bin/pdfjam --fitpaper 'true' --rotateoversize 'true' --suffix joined --paper a4paper --rotateoversize 'false' --outfile lectures.tmp.pdf -- Lecture\\ 01.pdf - Lecture\\ 02.pdf - Lecture\\ 03.pdf - Lecture\\ 04.pdf - Lecture\\ 05.pdf - Lecture\\ 06.pdf - Lecture\\ 07.pdf - Lecture\\ 08.pdf - Lecture\\ 09.pdf - Lecture\\ 10.pdf - Lecture\\ 11.pdf - Lecture\\ 12.pdf - Lecture\\ 13.pdf - Lecture\\ 14.pdf - Lecture\\ 15.pdf - Lecture\\ 16.pdf - Lecture\\ 17.pdf - Lecture\\ 18.pdf - Lecture\\ 19.pdf - Lecture\\ 20.pdf - Lecture\\ 21.pdf - Lecture\\ 22.pdf - Lecture\\ 23.pdf - Lecture\\ 24.pdf - Lecture\\ 25.pdf - Lecture\\ 26.pdf - \r\n",
        "  pdfjam: Calling pdflatex...\r\n",
        "  pdfjam: Finished.  Output was to 'lectures.tmp.pdf'.\r\n"
       ]
      }
     ],
     "prompt_number": 6
    },
    {
     "cell_type": "markdown",
     "metadata": {},
     "source": [
      "Sort the files and correspondig index entries"
     ]
    },
    {
     "cell_type": "code",
     "collapsed": false,
     "input": [
      "sortind = np.argsort(newfiles)\n",
      "newfiles = [ newfiles[i] for i in sortind ]\n",
      "idxnames = [ idxnames[i] for i in sortind ]\n",
      "D(idxnames)"
     ],
     "language": "python",
     "metadata": {},
     "outputs": [
      {
       "metadata": {},
       "output_type": "display_data",
       "text": [
        "['Lecture 1',\n",
        " 'Lecture 2',\n",
        " 'Lecture 3',\n",
        " 'Lecture 4',\n",
        " 'Lecture 5',\n",
        " 'Lecture 6',\n",
        " 'Lecture 7',\n",
        " 'Lecture 8',\n",
        " 'Lecture 9',\n",
        " 'Lecture 10',\n",
        " 'Lecture 11',\n",
        " 'Lecture 12',\n",
        " 'Lecture 13',\n",
        " 'Lecture 14',\n",
        " 'Lecture 15',\n",
        " 'Lecture 16',\n",
        " 'Lecture 17',\n",
        " 'Lecture 18',\n",
        " 'Lecture 19',\n",
        " 'Lecture 20',\n",
        " 'Lecture 21',\n",
        " 'Lecture 22',\n",
        " 'Lecture 23',\n",
        " 'Lecture 24',\n",
        " 'Lecture 25',\n",
        " 'Lecture 26']"
       ]
      }
     ],
     "prompt_number": 7
    },
    {
     "cell_type": "code",
     "collapsed": false,
     "input": [
      "r = re.compile(r\"Pages:\\s*([0-9]+)\")\n",
      "idxentries = []\n",
      "pagenum = 1\n",
      "for (f, name) in zip(files, idxnames):\n",
      "    idxentry = r\"[/Page \" + format(pagenum,\"d\") \\\n",
      "        + r\" /View [/XYZ null null null] /Title (\" \\\n",
      "        + name \\\n",
      "        + r\") /OUT pdfmark\"\n",
      "    idxentries.append(idxentry)\n",
      "    pages_s = !pdfinfo $f | grep Pages\n",
      "    pages = int(r.findall(pages_s[0])[0])\n",
      "    pagenum += pages\n",
      "idx = \"\\n\".join(idxentries)"
     ],
     "language": "python",
     "metadata": {},
     "outputs": [],
     "prompt_number": 8
    },
    {
     "cell_type": "code",
     "collapsed": false,
     "input": [
      "with file(\"index.info\", \"w\") as idxinfo:\n",
      "    idxinfo.write(idx)"
     ],
     "language": "python",
     "metadata": {},
     "outputs": [],
     "prompt_number": 9
    },
    {
     "cell_type": "markdown",
     "metadata": {},
     "source": [
      "Add the index to the pdf; instructions on creating index in PDF file obtained here:\n",
      "\n",
      "http://linproject.blogspot.com/2012/06/adding-index-to-your-pdf-file.html"
     ]
    },
    {
     "cell_type": "code",
     "collapsed": false,
     "input": [
      "!gs -sDEVICE=pdfwrite -q -dBATCH -dNOPAUSE \\\n",
      "    -sOutputFile=$outfile index.info -f $tempfile "
     ],
     "language": "python",
     "metadata": {},
     "outputs": [],
     "prompt_number": 10
    },
    {
     "cell_type": "code",
     "collapsed": false,
     "input": [
      "!rm -f $tempfile"
     ],
     "language": "python",
     "metadata": {},
     "outputs": [],
     "prompt_number": 11
    }
   ],
   "metadata": {}
  }
 ]
}