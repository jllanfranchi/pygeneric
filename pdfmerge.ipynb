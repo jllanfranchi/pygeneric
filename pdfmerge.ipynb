{
 "metadata": {
  "name": ""
 },
 "nbformat": 3,
 "nbformat_minor": 0,
 "worksheets": [
  {
   "cells": [
    {
     "cell_type": "code",
     "collapsed": false,
     "input": [
      "import re\n",
      "import numpy as np\n",
      "from IPython.display import display as D\n",
      "%rehashx"
     ],
     "language": "python",
     "metadata": {},
     "outputs": [],
     "prompt_number": 1
    },
    {
     "cell_type": "code",
     "collapsed": false,
     "input": [
      "%cd ~/courses/phys518_critical_phenomena/lecture/"
     ],
     "language": "python",
     "metadata": {},
     "outputs": [
      {
       "output_type": "stream",
       "stream": "stdout",
       "text": [
        "/home/justin/courses/phys518_critical_phenomena/lecture\n"
       ]
      }
     ],
     "prompt_number": 2
    },
    {
     "cell_type": "code",
     "collapsed": false,
     "input": [
      "pdfnum_re = re.compile(r\"518_lecture_([0-9]{1,2})\\.pdf\")"
     ],
     "language": "python",
     "metadata": {},
     "outputs": [],
     "prompt_number": 3
    },
    {
     "cell_type": "code",
     "collapsed": false,
     "input": [
      "files = !ls 518_lecture_*.pdf\n",
      "D(files)"
     ],
     "language": "python",
     "metadata": {},
     "outputs": [
      {
       "metadata": {},
       "output_type": "display_data",
       "text": [
        "['518_lecture_10.pdf',\n",
        " '518_lecture_11.pdf',\n",
        " '518_lecture_12.pdf',\n",
        " '518_lecture_13.pdf',\n",
        " '518_lecture_14.pdf',\n",
        " '518_lecture_1.pdf',\n",
        " '518_lecture_2.pdf',\n",
        " '518_lecture_3.pdf',\n",
        " '518_lecture_4.pdf',\n",
        " '518_lecture_5.pdf',\n",
        " '518_lecture_6.pdf',\n",
        " '518_lecture_7.pdf',\n",
        " '518_lecture_8.pdf',\n",
        " '518_lecture_9.pdf']"
       ]
      }
     ],
     "prompt_number": 4
    },
    {
     "cell_type": "code",
     "collapsed": false,
     "input": [
      "newfiles = []\n",
      "idxnames = []\n",
      "for f in files:\n",
      "    filenum = int(pdfnum_re.findall(f)[0])\n",
      "    pdfname = r\"Lecture\\ \"+format(filenum, \"02d\")+\".pdf\" \n",
      "    idxname = r\"Lecture \"+format(filenum, \"d\")\n",
      "    newfiles.append(pdfname)\n",
      "    idxnames.append(idxname)\n",
      "    !cp $f $pdfname"
     ],
     "language": "python",
     "metadata": {},
     "outputs": [],
     "prompt_number": 5
    },
    {
     "cell_type": "markdown",
     "metadata": {},
     "source": [
      "Merge the PDF's into one"
     ]
    },
    {
     "cell_type": "code",
     "collapsed": false,
     "input": [
      "tempfile = \"PHYS_518_lectures.tmp.pdf\"\n",
      "outfile = \"PHYS_518_lectures.pdf\"\n",
      "!pdfjoin Lecture*.pdf --outfile $tempfile"
     ],
     "language": "python",
     "metadata": {},
     "outputs": [
      {
       "output_type": "stream",
       "stream": "stdout",
       "text": [
        "          ----\r\n",
        "  pdfjam: This is pdfjam version 2.08.\r\n",
        "  pdfjam: Reading any site-wide or user-specific defaults...\r\n",
        "          (none found)\r\n",
        "  pdfjam: Effective call for this run of pdfjam:\r\n",
        "          /usr/bin/pdfjam --fitpaper 'true' --rotateoversize 'true' --suffix joined --outfile PHYS_518_lectures.tmp.pdf -- Lecture\\ 01.pdf - Lecture\\ 02.pdf - Lecture\\ 03.pdf - Lecture\\ 04.pdf - Lecture\\ 05.pdf - Lecture\\ 06.pdf - Lecture\\ 07.pdf - Lecture\\ 08.pdf - Lecture\\ 09.pdf - Lecture\\ 10.pdf - Lecture\\ 11.pdf - Lecture\\ 12.pdf - Lecture\\ 13.pdf - Lecture\\ 14.pdf - \r\n",
        "  pdfjam: Calling pdflatex...\r\n",
        "  pdfjam: Finished.  Output was to 'PHYS_518_lectures.tmp.pdf'.\r\n"
       ]
      }
     ],
     "prompt_number": 6
    },
    {
     "cell_type": "markdown",
     "metadata": {},
     "source": [
      "Sort the files and correspondig index entries"
     ]
    },
    {
     "cell_type": "code",
     "collapsed": false,
     "input": [
      "sortind = np.argsort(newfiles)\n",
      "newfiles = [ newfiles[i] for i in sortind ]\n",
      "idxnames = [ idxnames[i] for i in sortind ]\n",
      "D(idxnames)"
     ],
     "language": "python",
     "metadata": {},
     "outputs": [
      {
       "metadata": {},
       "output_type": "display_data",
       "text": [
        "['Lecture 1',\n",
        " 'Lecture 2',\n",
        " 'Lecture 3',\n",
        " 'Lecture 4',\n",
        " 'Lecture 5',\n",
        " 'Lecture 6',\n",
        " 'Lecture 7',\n",
        " 'Lecture 8',\n",
        " 'Lecture 9',\n",
        " 'Lecture 10',\n",
        " 'Lecture 11',\n",
        " 'Lecture 12',\n",
        " 'Lecture 13',\n",
        " 'Lecture 14']"
       ]
      }
     ],
     "prompt_number": 7
    },
    {
     "cell_type": "code",
     "collapsed": false,
     "input": [
      "r = re.compile(r\"Pages:\\s*([0-9]+)\")\n",
      "idxentries = []\n",
      "pagenum = 1\n",
      "for name in idxnames:\n",
      "    idxentry = r\"[/Page \" + format(pagenum,\"d\") \\\n",
      "        + r\" /View [/XYZ null null null] /Title (\" \\\n",
      "        + name \\\n",
      "        + r\") /OUT pdfmark\"\n",
      "    idxentries.append(idxentry)\n",
      "    pages_s = !pdfinfo $f | grep Pages\n",
      "    pages = int(r.findall(pages_s[0])[0])\n",
      "    pagenum += pages\n",
      "idx = \"\\n\".join(idxentries)"
     ],
     "language": "python",
     "metadata": {},
     "outputs": [],
     "prompt_number": 8
    },
    {
     "cell_type": "code",
     "collapsed": false,
     "input": [
      "with file(\"index.info\", \"w\") as idxinfo:\n",
      "    idxinfo.write(idx)"
     ],
     "language": "python",
     "metadata": {},
     "outputs": [],
     "prompt_number": 9
    },
    {
     "cell_type": "markdown",
     "metadata": {},
     "source": [
      "Add the index to the pdf; instructions on creating index in PDF file obtained here:\n",
      "\n",
      "http://linproject.blogspot.com/2012/06/adding-index-to-your-pdf-file.html"
     ]
    },
    {
     "cell_type": "code",
     "collapsed": false,
     "input": [
      "!gs -sDEVICE=pdfwrite -q -dBATCH -dNOPAUSE \\\n",
      "    -sOutputFile=$outfile index.info -f $tempfile "
     ],
     "language": "python",
     "metadata": {},
     "outputs": [],
     "prompt_number": 10
    },
    {
     "cell_type": "code",
     "collapsed": false,
     "input": [
      "!rm -f $tempfile"
     ],
     "language": "python",
     "metadata": {},
     "outputs": [],
     "prompt_number": 11
    }
   ],
   "metadata": {}
  }
 ]
}